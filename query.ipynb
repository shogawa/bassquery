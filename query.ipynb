{
 "cells": [
  {
   "cell_type": "code",
   "execution_count": 236,
   "metadata": {},
   "outputs": [],
   "source": [
    "import re"
   ]
  },
  {
   "cell_type": "code",
   "execution_count": 237,
   "metadata": {},
   "outputs": [],
   "source": [
    "from astropy.io import ascii\n",
    "from astroquery.heasarc import Heasarc\n",
    "from astroquery.vizier import Vizier\n",
    "from astroquery.ipac.ned import Ned\n",
    "import pandas as pd\n",
    "import numpy as np"
   ]
  },
  {
   "cell_type": "markdown",
   "metadata": {},
   "source": [
    "## Query Ricci+17"
   ]
  },
  {
   "cell_type": "code",
   "execution_count": null,
   "metadata": {},
   "outputs": [],
   "source": [
    "v = Vizier(catalog=\"J/ApJS/233/17/Xraydata\",columns=['SWIFT','logNH','b_logNH','B_logNH','Model'],row_limit=-1)\n",
    "# http://vizier.u-strasbg.fr/viz-bin/VizieR-3?-source=J/ApJS/80/531/gxfluxes\n",
    "print(v.columns)\n",
    "data = v.query_constraints()"
   ]
  },
  {
   "cell_type": "markdown",
   "metadata": {},
   "source": [
    "## Query Koss+23"
   ]
  },
  {
   "cell_type": "code",
   "execution_count": 239,
   "metadata": {},
   "outputs": [
    {
     "name": "stdout",
     "output_type": "stream",
     "text": [
      "['ID', 'SWIFT', 'CName', 'RAJ2000', 'DEJ2000', 'type', 'z', 'ztype']\n"
     ]
    }
   ],
   "source": [
    "v = Vizier(catalog=\"J/ApJS/261/2/table9\",columns=['ID','SWIFT','CName','RAJ2000','DEJ2000','type','z','ztype'],row_limit=-1)\n",
    "# http://vizier.u-strasbg.fr/viz-bin/VizieR-3?-source=J/ApJS/80/531/gxfluxes\n",
    "print(v.columns)\n",
    "data = v.query_constraints()\n"
   ]
  },
  {
   "cell_type": "code",
   "execution_count": 240,
   "metadata": {},
   "outputs": [],
   "source": [
    "ascii.write(data[0],\"test.txt\",delimiter='|',overwrite=True)"
   ]
  },
  {
   "cell_type": "code",
   "execution_count": 241,
   "metadata": {},
   "outputs": [],
   "source": [
    "df = pd.read_table('test.txt', header=0,delimiter=\"|\")"
   ]
  },
  {
   "cell_type": "code",
   "execution_count": 242,
   "metadata": {},
   "outputs": [],
   "source": [
    "df[\"SWIFT\"] = \"SWIFT\" + df[\"SWIFT\"]"
   ]
  },
  {
   "cell_type": "code",
   "execution_count": null,
   "metadata": {},
   "outputs": [],
   "source": [
    "df.to_csv('name.csv', header=False, index=False, columns=['SWIFT'])"
   ]
  },
  {
   "cell_type": "code",
   "execution_count": null,
   "metadata": {},
   "outputs": [],
   "source": [
    "df.to_csv('bassradec.csv', header=False, index=False, columns=['RAJ2000','DEJ2000'])"
   ]
  },
  {
   "cell_type": "code",
   "execution_count": 243,
   "metadata": {},
   "outputs": [
    {
     "data": {
      "text/html": [
       "<div>\n",
       "<style scoped>\n",
       "    .dataframe tbody tr th:only-of-type {\n",
       "        vertical-align: middle;\n",
       "    }\n",
       "\n",
       "    .dataframe tbody tr th {\n",
       "        vertical-align: top;\n",
       "    }\n",
       "\n",
       "    .dataframe thead th {\n",
       "        text-align: right;\n",
       "    }\n",
       "</style>\n",
       "<table border=\"1\" class=\"dataframe\">\n",
       "  <thead>\n",
       "    <tr style=\"text-align: right;\">\n",
       "      <th></th>\n",
       "      <th>ID</th>\n",
       "      <th>SWIFT</th>\n",
       "      <th>CName</th>\n",
       "      <th>RAJ2000</th>\n",
       "      <th>DEJ2000</th>\n",
       "      <th>z</th>\n",
       "      <th>ztype</th>\n",
       "    </tr>\n",
       "  </thead>\n",
       "  <tbody>\n",
       "    <tr>\n",
       "      <th>0</th>\n",
       "      <td>1</td>\n",
       "      <td>SWIFTJ0001.0-0708</td>\n",
       "      <td>2MASXJ00004876-0709117</td>\n",
       "      <td>0.203234</td>\n",
       "      <td>-7.153223</td>\n",
       "      <td>0.037496</td>\n",
       "      <td>OIII</td>\n",
       "    </tr>\n",
       "    <tr>\n",
       "      <th>1</th>\n",
       "      <td>2</td>\n",
       "      <td>SWIFTJ0001.6-7701</td>\n",
       "      <td>2MASXJ00014596-7657144</td>\n",
       "      <td>0.442035</td>\n",
       "      <td>-76.953963</td>\n",
       "      <td>0.058505</td>\n",
       "      <td>OIII Broad</td>\n",
       "    </tr>\n",
       "    <tr>\n",
       "      <th>2</th>\n",
       "      <td>3</td>\n",
       "      <td>SWIFTJ0002.5+0323</td>\n",
       "      <td>NGC7811</td>\n",
       "      <td>0.610105</td>\n",
       "      <td>3.351912</td>\n",
       "      <td>0.025457</td>\n",
       "      <td>OIII Broad</td>\n",
       "    </tr>\n",
       "    <tr>\n",
       "      <th>3</th>\n",
       "      <td>4</td>\n",
       "      <td>SWIFTJ0003.3+2737</td>\n",
       "      <td>2MASXJ00032742+2739173</td>\n",
       "      <td>0.864248</td>\n",
       "      <td>27.654725</td>\n",
       "      <td>0.039784</td>\n",
       "      <td>OIII</td>\n",
       "    </tr>\n",
       "    <tr>\n",
       "      <th>4</th>\n",
       "      <td>5</td>\n",
       "      <td>SWIFTJ0005.0+7021</td>\n",
       "      <td>2MASXJ00040192+7019185</td>\n",
       "      <td>1.008241</td>\n",
       "      <td>70.321752</td>\n",
       "      <td>0.095681</td>\n",
       "      <td>OIII</td>\n",
       "    </tr>\n",
       "    <tr>\n",
       "      <th>...</th>\n",
       "      <td>...</td>\n",
       "      <td>...</td>\n",
       "      <td>...</td>\n",
       "      <td>...</td>\n",
       "      <td>...</td>\n",
       "      <td>...</td>\n",
       "      <td>...</td>\n",
       "    </tr>\n",
       "    <tr>\n",
       "      <th>853</th>\n",
       "      <td>1209</td>\n",
       "      <td>SWIFTJ2359.0-3038</td>\n",
       "      <td>H2356-309</td>\n",
       "      <td>359.782919</td>\n",
       "      <td>-30.627960</td>\n",
       "      <td>0.165138</td>\n",
       "      <td>Gal Temp</td>\n",
       "    </tr>\n",
       "    <tr>\n",
       "      <th>854</th>\n",
       "      <td>1210</td>\n",
       "      <td>SWIFTJ2359.3-6058</td>\n",
       "      <td>PKS2356-61</td>\n",
       "      <td>359.767938</td>\n",
       "      <td>-60.916440</td>\n",
       "      <td>0.096211</td>\n",
       "      <td>OIII</td>\n",
       "    </tr>\n",
       "    <tr>\n",
       "      <th>855</th>\n",
       "      <td>1077</td>\n",
       "      <td>SWIFTJ2028.5+2543</td>\n",
       "      <td>MCG+04-48-002</td>\n",
       "      <td>307.146087</td>\n",
       "      <td>25.733383</td>\n",
       "      <td>0.013272</td>\n",
       "      <td>OIII</td>\n",
       "    </tr>\n",
       "    <tr>\n",
       "      <th>856</th>\n",
       "      <td>112</td>\n",
       "      <td>SWIFTJ0209.5-1010</td>\n",
       "      <td>NGC833</td>\n",
       "      <td>32.336859</td>\n",
       "      <td>-10.133086</td>\n",
       "      <td>0.013548</td>\n",
       "      <td>OIII</td>\n",
       "    </tr>\n",
       "    <tr>\n",
       "      <th>857</th>\n",
       "      <td>841</td>\n",
       "      <td>SWIFTJ1652.9+0223</td>\n",
       "      <td>NGC6240N</td>\n",
       "      <td>253.245401</td>\n",
       "      <td>2.401017</td>\n",
       "      <td>0.024719</td>\n",
       "      <td>OIII</td>\n",
       "    </tr>\n",
       "  </tbody>\n",
       "</table>\n",
       "<p>858 rows × 7 columns</p>\n",
       "</div>"
      ],
      "text/plain": [
       "       ID              SWIFT                   CName     RAJ2000    DEJ2000  \\\n",
       "0       1  SWIFTJ0001.0-0708  2MASXJ00004876-0709117    0.203234  -7.153223   \n",
       "1       2  SWIFTJ0001.6-7701  2MASXJ00014596-7657144    0.442035 -76.953963   \n",
       "2       3  SWIFTJ0002.5+0323                 NGC7811    0.610105   3.351912   \n",
       "3       4  SWIFTJ0003.3+2737  2MASXJ00032742+2739173    0.864248  27.654725   \n",
       "4       5  SWIFTJ0005.0+7021  2MASXJ00040192+7019185    1.008241  70.321752   \n",
       "..    ...                ...                     ...         ...        ...   \n",
       "853  1209  SWIFTJ2359.0-3038               H2356-309  359.782919 -30.627960   \n",
       "854  1210  SWIFTJ2359.3-6058              PKS2356-61  359.767938 -60.916440   \n",
       "855  1077  SWIFTJ2028.5+2543           MCG+04-48-002  307.146087  25.733383   \n",
       "856   112  SWIFTJ0209.5-1010                  NGC833   32.336859 -10.133086   \n",
       "857   841  SWIFTJ1652.9+0223                NGC6240N  253.245401   2.401017   \n",
       "\n",
       "            z       ztype  \n",
       "0    0.037496        OIII  \n",
       "1    0.058505  OIII Broad  \n",
       "2    0.025457  OIII Broad  \n",
       "3    0.039784        OIII  \n",
       "4    0.095681        OIII  \n",
       "..        ...         ...  \n",
       "853  0.165138    Gal Temp  \n",
       "854  0.096211        OIII  \n",
       "855  0.013272        OIII  \n",
       "856  0.013548        OIII  \n",
       "857  0.024719        OIII  \n",
       "\n",
       "[858 rows x 7 columns]"
      ]
     },
     "execution_count": 243,
     "metadata": {},
     "output_type": "execute_result"
    }
   ],
   "source": [
    "df"
   ]
  },
  {
   "cell_type": "code",
   "execution_count": null,
   "metadata": {},
   "outputs": [],
   "source": [
    "df[df[\"SWIFT\"]==\"SWIFTJ0456.3-7532\"]"
   ]
  },
  {
   "cell_type": "markdown",
   "metadata": {},
   "source": [
    "## Query HEASARC"
   ]
  },
  {
   "cell_type": "code",
   "execution_count": null,
   "metadata": {},
   "outputs": [],
   "source": [
    "df = pd.read_table('basstable.csv', header=0,delimiter=\",\")\n",
    "df[\"Counterpart\"].iloc[0]"
   ]
  },
  {
   "cell_type": "code",
   "execution_count": null,
   "metadata": {},
   "outputs": [],
   "source": [
    "heasarc = Heasarc()"
   ]
  },
  {
   "cell_type": "code",
   "execution_count": null,
   "metadata": {},
   "outputs": [],
   "source": [
    "heasarc.query_mission_cols(mission='numaster')"
   ]
  },
  {
   "cell_type": "code",
   "execution_count": null,
   "metadata": {},
   "outputs": [],
   "source": [
    "heasarc.query_mission_cols(mission='xmmmaster')"
   ]
  },
  {
   "cell_type": "code",
   "execution_count": null,
   "metadata": {},
   "outputs": [],
   "source": [
    "heasarc.query_mission_cols(mission='suzamaster')"
   ]
  },
  {
   "cell_type": "code",
   "execution_count": null,
   "metadata": {},
   "outputs": [],
   "source": [
    "table1 = heasarc.query_object(\"2MASXJ03352254+1907282\",mission='numaster', fields='name,ra,dec,time,obsid,status,exposure_a,observation_mode,public_date,issue_flag,end_time')\n",
    "#table1[\"NAME\"] = df[\"SwiftName\"].iloc[0]\n",
    "table1\n"
   ]
  },
  {
   "cell_type": "code",
   "execution_count": null,
   "metadata": {},
   "outputs": [],
   "source": [
    "table = heasarc.query_object(df[\"Counterpart\"].iloc[0],mission='numaster', fields='name,ra,dec,time,obsid,status,exposure_a,observation_mode,public_date,issue_flag,end_time')\n",
    "table[\"NAME\"] = df[\"SwiftName\"].iloc[0]\n",
    "table"
   ]
  },
  {
   "cell_type": "code",
   "execution_count": null,
   "metadata": {},
   "outputs": [],
   "source": [
    "for i in range(1,len(df)):\n",
    "    t = heasarc.query_object(df[\"Counterpart\"].iloc[i],mission='numaster', fields='name,ra,dec,time,obsid,status,exposure_a,observation_mode,public_date,issue_flag,end_time')\n",
    "    t[\"NAME\"] = df[\"SwiftName\"].iloc[i]\n",
    "    for arr in np.array(t):\n",
    "        table.add_row(arr)"
   ]
  },
  {
   "cell_type": "code",
   "execution_count": null,
   "metadata": {},
   "outputs": [],
   "source": [
    "table"
   ]
  },
  {
   "cell_type": "code",
   "execution_count": null,
   "metadata": {},
   "outputs": [],
   "source": [
    "np.array(table)"
   ]
  },
  {
   "cell_type": "code",
   "execution_count": null,
   "metadata": {},
   "outputs": [],
   "source": [
    "table.add_row(np.array(table)[0])"
   ]
  },
  {
   "cell_type": "code",
   "execution_count": null,
   "metadata": {},
   "outputs": [],
   "source": [
    "table"
   ]
  },
  {
   "cell_type": "code",
   "execution_count": null,
   "metadata": {},
   "outputs": [],
   "source": [
    "nustar_df = pd.read_table('nustarbass.txt', header=0,delimiter=\"|\")\n",
    "suzaku_df = pd.read_csv('suzakubass.txt', header=0,delimiter=\"|\")"
   ]
  },
  {
   "cell_type": "code",
   "execution_count": null,
   "metadata": {},
   "outputs": [],
   "source": [
    "pd.to_datetime(nustar_df[nustar_df[\"status\"]==\"archived \"]['time'])"
   ]
  },
  {
   "cell_type": "code",
   "execution_count": null,
   "metadata": {},
   "outputs": [],
   "source": [
    "nustar_df.columns = nustar_df.columns.str.strip()\n",
    "suzaku_df.columns = suzaku_df.columns.str.strip()"
   ]
  },
  {
   "cell_type": "code",
   "execution_count": null,
   "metadata": {},
   "outputs": [],
   "source": [
    "nustar_df"
   ]
  },
  {
   "cell_type": "markdown",
   "metadata": {},
   "source": [
    "## Query NED"
   ]
  },
  {
   "cell_type": "code",
   "execution_count": null,
   "metadata": {},
   "outputs": [],
   "source": [
    "result_table = Ned.query_object(\"SWIFTJ0456.3-7532\")"
   ]
  },
  {
   "cell_type": "code",
   "execution_count": null,
   "metadata": {},
   "outputs": [],
   "source": [
    "result_table"
   ]
  },
  {
   "cell_type": "markdown",
   "metadata": {},
   "source": [
    "## NhTot"
   ]
  },
  {
   "cell_type": "code",
   "execution_count": 244,
   "metadata": {},
   "outputs": [],
   "source": [
    "dfnh = pd.read_table('bassnhtot.txt', header=0,delimiter=\"|\")"
   ]
  },
  {
   "cell_type": "code",
   "execution_count": 245,
   "metadata": {},
   "outputs": [
    {
     "data": {
      "text/html": [
       "<div>\n",
       "<style scoped>\n",
       "    .dataframe tbody tr th:only-of-type {\n",
       "        vertical-align: middle;\n",
       "    }\n",
       "\n",
       "    .dataframe tbody tr th {\n",
       "        vertical-align: top;\n",
       "    }\n",
       "\n",
       "    .dataframe thead th {\n",
       "        text-align: right;\n",
       "    }\n",
       "</style>\n",
       "<table border=\"1\" class=\"dataframe\">\n",
       "  <thead>\n",
       "    <tr style=\"text-align: right;\">\n",
       "      <th></th>\n",
       "      <th>Position</th>\n",
       "      <th>E(B-V)_Mean</th>\n",
       "      <th>E(B-V)_Weighted</th>\n",
       "      <th>NHI_Mean</th>\n",
       "      <th>NHI_Weighted</th>\n",
       "      <th>NH2_Mean</th>\n",
       "      <th>NH2_Weighted</th>\n",
       "      <th>NHtot_Mean</th>\n",
       "      <th>NHtot_Weighted</th>\n",
       "      <th>Unnamed: 9</th>\n",
       "    </tr>\n",
       "  </thead>\n",
       "  <tbody>\n",
       "    <tr>\n",
       "      <th>0</th>\n",
       "      <td>J 0.20323, -7.15322</td>\n",
       "      <td>0.036</td>\n",
       "      <td>0.037</td>\n",
       "      <td>3.150000e+20</td>\n",
       "      <td>3.130000e+20</td>\n",
       "      <td>3.870000e+19</td>\n",
       "      <td>3.970000e+19</td>\n",
       "      <td>3.540000e+20</td>\n",
       "      <td>3.520000e+20</td>\n",
       "      <td>NaN</td>\n",
       "    </tr>\n",
       "    <tr>\n",
       "      <th>1</th>\n",
       "      <td>J 0.44203, -76.95396</td>\n",
       "      <td>0.053</td>\n",
       "      <td>0.055</td>\n",
       "      <td>4.650000e+20</td>\n",
       "      <td>4.810000e+20</td>\n",
       "      <td>8.770000e+19</td>\n",
       "      <td>9.470000e+19</td>\n",
       "      <td>5.530000e+20</td>\n",
       "      <td>5.760000e+20</td>\n",
       "      <td>NaN</td>\n",
       "    </tr>\n",
       "    <tr>\n",
       "      <th>2</th>\n",
       "      <td>J 0.61011, 3.35191</td>\n",
       "      <td>0.023</td>\n",
       "      <td>0.023</td>\n",
       "      <td>2.810000e+20</td>\n",
       "      <td>2.810000e+20</td>\n",
       "      <td>2.090000e+19</td>\n",
       "      <td>2.040000e+19</td>\n",
       "      <td>3.010000e+20</td>\n",
       "      <td>3.010000e+20</td>\n",
       "      <td>NaN</td>\n",
       "    </tr>\n",
       "    <tr>\n",
       "      <th>3</th>\n",
       "      <td>J 0.86425, 27.65473</td>\n",
       "      <td>0.052</td>\n",
       "      <td>0.055</td>\n",
       "      <td>4.250000e+20</td>\n",
       "      <td>4.300000e+20</td>\n",
       "      <td>7.880000e+19</td>\n",
       "      <td>8.500000e+19</td>\n",
       "      <td>5.030000e+20</td>\n",
       "      <td>5.150000e+20</td>\n",
       "      <td>NaN</td>\n",
       "    </tr>\n",
       "    <tr>\n",
       "      <th>4</th>\n",
       "      <td>J 1.00824, 70.32175</td>\n",
       "      <td>0.970</td>\n",
       "      <td>1.033</td>\n",
       "      <td>3.340000e+21</td>\n",
       "      <td>3.480000e+21</td>\n",
       "      <td>1.440000e+21</td>\n",
       "      <td>1.440000e+21</td>\n",
       "      <td>4.780000e+21</td>\n",
       "      <td>4.920000e+21</td>\n",
       "      <td>NaN</td>\n",
       "    </tr>\n",
       "    <tr>\n",
       "      <th>...</th>\n",
       "      <td>...</td>\n",
       "      <td>...</td>\n",
       "      <td>...</td>\n",
       "      <td>...</td>\n",
       "      <td>...</td>\n",
       "      <td>...</td>\n",
       "      <td>...</td>\n",
       "      <td>...</td>\n",
       "      <td>...</td>\n",
       "      <td>...</td>\n",
       "    </tr>\n",
       "    <tr>\n",
       "      <th>853</th>\n",
       "      <td>J 359.78292, -30.62796</td>\n",
       "      <td>0.015</td>\n",
       "      <td>0.015</td>\n",
       "      <td>1.420000e+20</td>\n",
       "      <td>1.440000e+20</td>\n",
       "      <td>6.170000e+18</td>\n",
       "      <td>6.250000e+18</td>\n",
       "      <td>1.480000e+20</td>\n",
       "      <td>1.500000e+20</td>\n",
       "      <td>NaN</td>\n",
       "    </tr>\n",
       "    <tr>\n",
       "      <th>854</th>\n",
       "      <td>J 359.76794, -60.91644</td>\n",
       "      <td>0.015</td>\n",
       "      <td>0.013</td>\n",
       "      <td>1.560000e+20</td>\n",
       "      <td>1.510000e+20</td>\n",
       "      <td>6.720000e+18</td>\n",
       "      <td>5.760000e+18</td>\n",
       "      <td>1.630000e+20</td>\n",
       "      <td>1.570000e+20</td>\n",
       "      <td>NaN</td>\n",
       "    </tr>\n",
       "    <tr>\n",
       "      <th>855</th>\n",
       "      <td>J 307.14609, 25.73338</td>\n",
       "      <td>0.479</td>\n",
       "      <td>0.455</td>\n",
       "      <td>2.150000e+21</td>\n",
       "      <td>2.070000e+21</td>\n",
       "      <td>1.390000e+21</td>\n",
       "      <td>1.370000e+21</td>\n",
       "      <td>3.540000e+21</td>\n",
       "      <td>3.450000e+21</td>\n",
       "      <td>NaN</td>\n",
       "    </tr>\n",
       "    <tr>\n",
       "      <th>856</th>\n",
       "      <td>J 32.33686, -10.13309</td>\n",
       "      <td>0.024</td>\n",
       "      <td>0.024</td>\n",
       "      <td>2.500000e+20</td>\n",
       "      <td>2.530000e+20</td>\n",
       "      <td>1.930000e+19</td>\n",
       "      <td>1.990000e+19</td>\n",
       "      <td>2.690000e+20</td>\n",
       "      <td>2.730000e+20</td>\n",
       "      <td>NaN</td>\n",
       "    </tr>\n",
       "    <tr>\n",
       "      <th>857</th>\n",
       "      <td>J 253.24540, 2.40102</td>\n",
       "      <td>0.079</td>\n",
       "      <td>0.078</td>\n",
       "      <td>4.960000e+20</td>\n",
       "      <td>4.870000e+20</td>\n",
       "      <td>1.430000e+20</td>\n",
       "      <td>1.390000e+20</td>\n",
       "      <td>6.390000e+20</td>\n",
       "      <td>6.260000e+20</td>\n",
       "      <td>NaN</td>\n",
       "    </tr>\n",
       "  </tbody>\n",
       "</table>\n",
       "<p>858 rows × 10 columns</p>\n",
       "</div>"
      ],
      "text/plain": [
       "                   Position  E(B-V)_Mean  E(B-V)_Weighted      NHI_Mean  \\\n",
       "0      J 0.20323, -7.15322         0.036            0.037  3.150000e+20   \n",
       "1      J 0.44203, -76.95396        0.053            0.055  4.650000e+20   \n",
       "2      J 0.61011, 3.35191          0.023            0.023  2.810000e+20   \n",
       "3      J 0.86425, 27.65473         0.052            0.055  4.250000e+20   \n",
       "4      J 1.00824, 70.32175         0.970            1.033  3.340000e+21   \n",
       "..                      ...          ...              ...           ...   \n",
       "853  J 359.78292, -30.62796        0.015            0.015  1.420000e+20   \n",
       "854  J 359.76794, -60.91644        0.015            0.013  1.560000e+20   \n",
       "855   J 307.14609, 25.73338        0.479            0.455  2.150000e+21   \n",
       "856   J 32.33686, -10.13309        0.024            0.024  2.500000e+20   \n",
       "857    J 253.24540, 2.40102        0.079            0.078  4.960000e+20   \n",
       "\n",
       "     NHI_Weighted      NH2_Mean  NH2_Weighted    NHtot_Mean  NHtot_Weighted  \\\n",
       "0    3.130000e+20  3.870000e+19  3.970000e+19  3.540000e+20    3.520000e+20   \n",
       "1    4.810000e+20  8.770000e+19  9.470000e+19  5.530000e+20    5.760000e+20   \n",
       "2    2.810000e+20  2.090000e+19  2.040000e+19  3.010000e+20    3.010000e+20   \n",
       "3    4.300000e+20  7.880000e+19  8.500000e+19  5.030000e+20    5.150000e+20   \n",
       "4    3.480000e+21  1.440000e+21  1.440000e+21  4.780000e+21    4.920000e+21   \n",
       "..            ...           ...           ...           ...             ...   \n",
       "853  1.440000e+20  6.170000e+18  6.250000e+18  1.480000e+20    1.500000e+20   \n",
       "854  1.510000e+20  6.720000e+18  5.760000e+18  1.630000e+20    1.570000e+20   \n",
       "855  2.070000e+21  1.390000e+21  1.370000e+21  3.540000e+21    3.450000e+21   \n",
       "856  2.530000e+20  1.930000e+19  1.990000e+19  2.690000e+20    2.730000e+20   \n",
       "857  4.870000e+20  1.430000e+20  1.390000e+20  6.390000e+20    6.260000e+20   \n",
       "\n",
       "     Unnamed: 9  \n",
       "0           NaN  \n",
       "1           NaN  \n",
       "2           NaN  \n",
       "3           NaN  \n",
       "4           NaN  \n",
       "..          ...  \n",
       "853         NaN  \n",
       "854         NaN  \n",
       "855         NaN  \n",
       "856         NaN  \n",
       "857         NaN  \n",
       "\n",
       "[858 rows x 10 columns]"
      ]
     },
     "execution_count": 245,
     "metadata": {},
     "output_type": "execute_result"
    }
   ],
   "source": [
    "dfnh"
   ]
  },
  {
   "cell_type": "code",
   "execution_count": 246,
   "metadata": {},
   "outputs": [],
   "source": [
    "df['NHtot_Weighted'] = dfnh['NHtot_Weighted']"
   ]
  },
  {
   "cell_type": "code",
   "execution_count": 247,
   "metadata": {},
   "outputs": [
    {
     "data": {
      "text/html": [
       "<div>\n",
       "<style scoped>\n",
       "    .dataframe tbody tr th:only-of-type {\n",
       "        vertical-align: middle;\n",
       "    }\n",
       "\n",
       "    .dataframe tbody tr th {\n",
       "        vertical-align: top;\n",
       "    }\n",
       "\n",
       "    .dataframe thead th {\n",
       "        text-align: right;\n",
       "    }\n",
       "</style>\n",
       "<table border=\"1\" class=\"dataframe\">\n",
       "  <thead>\n",
       "    <tr style=\"text-align: right;\">\n",
       "      <th></th>\n",
       "      <th>ID</th>\n",
       "      <th>SWIFT</th>\n",
       "      <th>CName</th>\n",
       "      <th>RAJ2000</th>\n",
       "      <th>DEJ2000</th>\n",
       "      <th>z</th>\n",
       "      <th>ztype</th>\n",
       "      <th>NHtot_Weighted</th>\n",
       "    </tr>\n",
       "  </thead>\n",
       "  <tbody>\n",
       "    <tr>\n",
       "      <th>0</th>\n",
       "      <td>1</td>\n",
       "      <td>SWIFTJ0001.0-0708</td>\n",
       "      <td>2MASXJ00004876-0709117</td>\n",
       "      <td>0.203234</td>\n",
       "      <td>-7.153223</td>\n",
       "      <td>0.037496</td>\n",
       "      <td>OIII</td>\n",
       "      <td>3.520000e+20</td>\n",
       "    </tr>\n",
       "    <tr>\n",
       "      <th>1</th>\n",
       "      <td>2</td>\n",
       "      <td>SWIFTJ0001.6-7701</td>\n",
       "      <td>2MASXJ00014596-7657144</td>\n",
       "      <td>0.442035</td>\n",
       "      <td>-76.953963</td>\n",
       "      <td>0.058505</td>\n",
       "      <td>OIII Broad</td>\n",
       "      <td>5.760000e+20</td>\n",
       "    </tr>\n",
       "    <tr>\n",
       "      <th>2</th>\n",
       "      <td>3</td>\n",
       "      <td>SWIFTJ0002.5+0323</td>\n",
       "      <td>NGC7811</td>\n",
       "      <td>0.610105</td>\n",
       "      <td>3.351912</td>\n",
       "      <td>0.025457</td>\n",
       "      <td>OIII Broad</td>\n",
       "      <td>3.010000e+20</td>\n",
       "    </tr>\n",
       "    <tr>\n",
       "      <th>3</th>\n",
       "      <td>4</td>\n",
       "      <td>SWIFTJ0003.3+2737</td>\n",
       "      <td>2MASXJ00032742+2739173</td>\n",
       "      <td>0.864248</td>\n",
       "      <td>27.654725</td>\n",
       "      <td>0.039784</td>\n",
       "      <td>OIII</td>\n",
       "      <td>5.150000e+20</td>\n",
       "    </tr>\n",
       "    <tr>\n",
       "      <th>4</th>\n",
       "      <td>5</td>\n",
       "      <td>SWIFTJ0005.0+7021</td>\n",
       "      <td>2MASXJ00040192+7019185</td>\n",
       "      <td>1.008241</td>\n",
       "      <td>70.321752</td>\n",
       "      <td>0.095681</td>\n",
       "      <td>OIII</td>\n",
       "      <td>4.920000e+21</td>\n",
       "    </tr>\n",
       "    <tr>\n",
       "      <th>...</th>\n",
       "      <td>...</td>\n",
       "      <td>...</td>\n",
       "      <td>...</td>\n",
       "      <td>...</td>\n",
       "      <td>...</td>\n",
       "      <td>...</td>\n",
       "      <td>...</td>\n",
       "      <td>...</td>\n",
       "    </tr>\n",
       "    <tr>\n",
       "      <th>853</th>\n",
       "      <td>1209</td>\n",
       "      <td>SWIFTJ2359.0-3038</td>\n",
       "      <td>H2356-309</td>\n",
       "      <td>359.782919</td>\n",
       "      <td>-30.627960</td>\n",
       "      <td>0.165138</td>\n",
       "      <td>Gal Temp</td>\n",
       "      <td>1.500000e+20</td>\n",
       "    </tr>\n",
       "    <tr>\n",
       "      <th>854</th>\n",
       "      <td>1210</td>\n",
       "      <td>SWIFTJ2359.3-6058</td>\n",
       "      <td>PKS2356-61</td>\n",
       "      <td>359.767938</td>\n",
       "      <td>-60.916440</td>\n",
       "      <td>0.096211</td>\n",
       "      <td>OIII</td>\n",
       "      <td>1.570000e+20</td>\n",
       "    </tr>\n",
       "    <tr>\n",
       "      <th>855</th>\n",
       "      <td>1077</td>\n",
       "      <td>SWIFTJ2028.5+2543</td>\n",
       "      <td>MCG+04-48-002</td>\n",
       "      <td>307.146087</td>\n",
       "      <td>25.733383</td>\n",
       "      <td>0.013272</td>\n",
       "      <td>OIII</td>\n",
       "      <td>3.450000e+21</td>\n",
       "    </tr>\n",
       "    <tr>\n",
       "      <th>856</th>\n",
       "      <td>112</td>\n",
       "      <td>SWIFTJ0209.5-1010</td>\n",
       "      <td>NGC833</td>\n",
       "      <td>32.336859</td>\n",
       "      <td>-10.133086</td>\n",
       "      <td>0.013548</td>\n",
       "      <td>OIII</td>\n",
       "      <td>2.730000e+20</td>\n",
       "    </tr>\n",
       "    <tr>\n",
       "      <th>857</th>\n",
       "      <td>841</td>\n",
       "      <td>SWIFTJ1652.9+0223</td>\n",
       "      <td>NGC6240N</td>\n",
       "      <td>253.245401</td>\n",
       "      <td>2.401017</td>\n",
       "      <td>0.024719</td>\n",
       "      <td>OIII</td>\n",
       "      <td>6.260000e+20</td>\n",
       "    </tr>\n",
       "  </tbody>\n",
       "</table>\n",
       "<p>858 rows × 8 columns</p>\n",
       "</div>"
      ],
      "text/plain": [
       "       ID              SWIFT                   CName     RAJ2000    DEJ2000  \\\n",
       "0       1  SWIFTJ0001.0-0708  2MASXJ00004876-0709117    0.203234  -7.153223   \n",
       "1       2  SWIFTJ0001.6-7701  2MASXJ00014596-7657144    0.442035 -76.953963   \n",
       "2       3  SWIFTJ0002.5+0323                 NGC7811    0.610105   3.351912   \n",
       "3       4  SWIFTJ0003.3+2737  2MASXJ00032742+2739173    0.864248  27.654725   \n",
       "4       5  SWIFTJ0005.0+7021  2MASXJ00040192+7019185    1.008241  70.321752   \n",
       "..    ...                ...                     ...         ...        ...   \n",
       "853  1209  SWIFTJ2359.0-3038               H2356-309  359.782919 -30.627960   \n",
       "854  1210  SWIFTJ2359.3-6058              PKS2356-61  359.767938 -60.916440   \n",
       "855  1077  SWIFTJ2028.5+2543           MCG+04-48-002  307.146087  25.733383   \n",
       "856   112  SWIFTJ0209.5-1010                  NGC833   32.336859 -10.133086   \n",
       "857   841  SWIFTJ1652.9+0223                NGC6240N  253.245401   2.401017   \n",
       "\n",
       "            z       ztype  NHtot_Weighted  \n",
       "0    0.037496        OIII    3.520000e+20  \n",
       "1    0.058505  OIII Broad    5.760000e+20  \n",
       "2    0.025457  OIII Broad    3.010000e+20  \n",
       "3    0.039784        OIII    5.150000e+20  \n",
       "4    0.095681        OIII    4.920000e+21  \n",
       "..        ...         ...             ...  \n",
       "853  0.165138    Gal Temp    1.500000e+20  \n",
       "854  0.096211        OIII    1.570000e+20  \n",
       "855  0.013272        OIII    3.450000e+21  \n",
       "856  0.013548        OIII    2.730000e+20  \n",
       "857  0.024719        OIII    6.260000e+20  \n",
       "\n",
       "[858 rows x 8 columns]"
      ]
     },
     "execution_count": 247,
     "metadata": {},
     "output_type": "execute_result"
    }
   ],
   "source": [
    "df"
   ]
  },
  {
   "cell_type": "code",
   "execution_count": 248,
   "metadata": {},
   "outputs": [],
   "source": [
    "df.to_csv('basstable.csv', header=['ID','SwiftName','Counterpart','RA','DEC','Redshift','nh'], index=False, columns=['ID','SWIFT','CName','RAJ2000','DEJ2000','z','NHtot_Weighted'])"
   ]
  },
  {
   "cell_type": "code",
   "execution_count": 249,
   "metadata": {},
   "outputs": [],
   "source": [
    "df = pd.read_table('basstable.csv', header=0,delimiter=\",\")"
   ]
  },
  {
   "cell_type": "code",
   "execution_count": 250,
   "metadata": {},
   "outputs": [
    {
     "data": {
      "text/html": [
       "<div>\n",
       "<style scoped>\n",
       "    .dataframe tbody tr th:only-of-type {\n",
       "        vertical-align: middle;\n",
       "    }\n",
       "\n",
       "    .dataframe tbody tr th {\n",
       "        vertical-align: top;\n",
       "    }\n",
       "\n",
       "    .dataframe thead th {\n",
       "        text-align: right;\n",
       "    }\n",
       "</style>\n",
       "<table border=\"1\" class=\"dataframe\">\n",
       "  <thead>\n",
       "    <tr style=\"text-align: right;\">\n",
       "      <th></th>\n",
       "      <th>ID</th>\n",
       "      <th>SwiftName</th>\n",
       "      <th>Counterpart</th>\n",
       "      <th>RA</th>\n",
       "      <th>DEC</th>\n",
       "      <th>Redshift</th>\n",
       "      <th>nh</th>\n",
       "    </tr>\n",
       "  </thead>\n",
       "  <tbody>\n",
       "    <tr>\n",
       "      <th>0</th>\n",
       "      <td>1</td>\n",
       "      <td>SWIFTJ0001.0-0708</td>\n",
       "      <td>2MASXJ00004876-0709117</td>\n",
       "      <td>0.203234</td>\n",
       "      <td>-7.153223</td>\n",
       "      <td>0.037496</td>\n",
       "      <td>3.520000e+20</td>\n",
       "    </tr>\n",
       "    <tr>\n",
       "      <th>1</th>\n",
       "      <td>2</td>\n",
       "      <td>SWIFTJ0001.6-7701</td>\n",
       "      <td>2MASXJ00014596-7657144</td>\n",
       "      <td>0.442035</td>\n",
       "      <td>-76.953963</td>\n",
       "      <td>0.058505</td>\n",
       "      <td>5.760000e+20</td>\n",
       "    </tr>\n",
       "    <tr>\n",
       "      <th>2</th>\n",
       "      <td>3</td>\n",
       "      <td>SWIFTJ0002.5+0323</td>\n",
       "      <td>NGC7811</td>\n",
       "      <td>0.610105</td>\n",
       "      <td>3.351912</td>\n",
       "      <td>0.025457</td>\n",
       "      <td>3.010000e+20</td>\n",
       "    </tr>\n",
       "    <tr>\n",
       "      <th>3</th>\n",
       "      <td>4</td>\n",
       "      <td>SWIFTJ0003.3+2737</td>\n",
       "      <td>2MASXJ00032742+2739173</td>\n",
       "      <td>0.864248</td>\n",
       "      <td>27.654725</td>\n",
       "      <td>0.039784</td>\n",
       "      <td>5.150000e+20</td>\n",
       "    </tr>\n",
       "    <tr>\n",
       "      <th>4</th>\n",
       "      <td>5</td>\n",
       "      <td>SWIFTJ0005.0+7021</td>\n",
       "      <td>2MASXJ00040192+7019185</td>\n",
       "      <td>1.008241</td>\n",
       "      <td>70.321752</td>\n",
       "      <td>0.095681</td>\n",
       "      <td>4.920000e+21</td>\n",
       "    </tr>\n",
       "    <tr>\n",
       "      <th>...</th>\n",
       "      <td>...</td>\n",
       "      <td>...</td>\n",
       "      <td>...</td>\n",
       "      <td>...</td>\n",
       "      <td>...</td>\n",
       "      <td>...</td>\n",
       "      <td>...</td>\n",
       "    </tr>\n",
       "    <tr>\n",
       "      <th>853</th>\n",
       "      <td>1209</td>\n",
       "      <td>SWIFTJ2359.0-3038</td>\n",
       "      <td>H2356-309</td>\n",
       "      <td>359.782919</td>\n",
       "      <td>-30.627960</td>\n",
       "      <td>0.165138</td>\n",
       "      <td>1.500000e+20</td>\n",
       "    </tr>\n",
       "    <tr>\n",
       "      <th>854</th>\n",
       "      <td>1210</td>\n",
       "      <td>SWIFTJ2359.3-6058</td>\n",
       "      <td>PKS2356-61</td>\n",
       "      <td>359.767938</td>\n",
       "      <td>-60.916440</td>\n",
       "      <td>0.096211</td>\n",
       "      <td>1.570000e+20</td>\n",
       "    </tr>\n",
       "    <tr>\n",
       "      <th>855</th>\n",
       "      <td>1077</td>\n",
       "      <td>SWIFTJ2028.5+2543</td>\n",
       "      <td>MCG+04-48-002</td>\n",
       "      <td>307.146087</td>\n",
       "      <td>25.733383</td>\n",
       "      <td>0.013272</td>\n",
       "      <td>3.450000e+21</td>\n",
       "    </tr>\n",
       "    <tr>\n",
       "      <th>856</th>\n",
       "      <td>112</td>\n",
       "      <td>SWIFTJ0209.5-1010</td>\n",
       "      <td>NGC833</td>\n",
       "      <td>32.336859</td>\n",
       "      <td>-10.133086</td>\n",
       "      <td>0.013548</td>\n",
       "      <td>2.730000e+20</td>\n",
       "    </tr>\n",
       "    <tr>\n",
       "      <th>857</th>\n",
       "      <td>841</td>\n",
       "      <td>SWIFTJ1652.9+0223</td>\n",
       "      <td>NGC6240N</td>\n",
       "      <td>253.245401</td>\n",
       "      <td>2.401017</td>\n",
       "      <td>0.024719</td>\n",
       "      <td>6.260000e+20</td>\n",
       "    </tr>\n",
       "  </tbody>\n",
       "</table>\n",
       "<p>858 rows × 7 columns</p>\n",
       "</div>"
      ],
      "text/plain": [
       "       ID          SwiftName             Counterpart          RA        DEC  \\\n",
       "0       1  SWIFTJ0001.0-0708  2MASXJ00004876-0709117    0.203234  -7.153223   \n",
       "1       2  SWIFTJ0001.6-7701  2MASXJ00014596-7657144    0.442035 -76.953963   \n",
       "2       3  SWIFTJ0002.5+0323                 NGC7811    0.610105   3.351912   \n",
       "3       4  SWIFTJ0003.3+2737  2MASXJ00032742+2739173    0.864248  27.654725   \n",
       "4       5  SWIFTJ0005.0+7021  2MASXJ00040192+7019185    1.008241  70.321752   \n",
       "..    ...                ...                     ...         ...        ...   \n",
       "853  1209  SWIFTJ2359.0-3038               H2356-309  359.782919 -30.627960   \n",
       "854  1210  SWIFTJ2359.3-6058              PKS2356-61  359.767938 -60.916440   \n",
       "855  1077  SWIFTJ2028.5+2543           MCG+04-48-002  307.146087  25.733383   \n",
       "856   112  SWIFTJ0209.5-1010                  NGC833   32.336859 -10.133086   \n",
       "857   841  SWIFTJ1652.9+0223                NGC6240N  253.245401   2.401017   \n",
       "\n",
       "     Redshift            nh  \n",
       "0    0.037496  3.520000e+20  \n",
       "1    0.058505  5.760000e+20  \n",
       "2    0.025457  3.010000e+20  \n",
       "3    0.039784  5.150000e+20  \n",
       "4    0.095681  4.920000e+21  \n",
       "..        ...           ...  \n",
       "853  0.165138  1.500000e+20  \n",
       "854  0.096211  1.570000e+20  \n",
       "855  0.013272  3.450000e+21  \n",
       "856  0.013548  2.730000e+20  \n",
       "857  0.024719  6.260000e+20  \n",
       "\n",
       "[858 rows x 7 columns]"
      ]
     },
     "execution_count": 250,
     "metadata": {},
     "output_type": "execute_result"
    }
   ],
   "source": [
    "df"
   ]
  },
  {
   "cell_type": "code",
   "execution_count": null,
   "metadata": {},
   "outputs": [],
   "source": [
    "df1 = df[df[\"SwiftName\"] == \"SWIFTJ2359.3-6058\"]"
   ]
  },
  {
   "cell_type": "code",
   "execution_count": null,
   "metadata": {},
   "outputs": [],
   "source": [
    "df1[\"RA\"].values[0]"
   ]
  },
  {
   "cell_type": "code",
   "execution_count": null,
   "metadata": {},
   "outputs": [],
   "source": [
    "int(ra.values/15)"
   ]
  },
  {
   "cell_type": "code",
   "execution_count": null,
   "metadata": {},
   "outputs": [],
   "source": [
    "import pandas as pd"
   ]
  },
  {
   "cell_type": "code",
   "execution_count": null,
   "metadata": {},
   "outputs": [],
   "source": [
    "df = pd.read_table('basstable.csv', header=0,delimiter=\",\",dtype=str)"
   ]
  },
  {
   "cell_type": "code",
   "execution_count": null,
   "metadata": {},
   "outputs": [],
   "source": [
    "nustar_df = pd.read_table('nustarbass.txt', header=0,delimiter=\"|\")\n",
    "nustar_df.columns = nustar_df.columns.str.strip()\n",
    "for i in range(len(nustar_df)):\n",
    "    ra=re.search(r'\\((\\d+\\.\\d+),(-?\\d+\\.\\d+).+\\)',nustar_df['_Search_Offset'].iloc[i]).group(1)\n",
    "    dec=re.search(r'\\((\\d+\\.\\d+),(-?\\d+\\.\\d+).+\\)',nustar_df['_Search_Offset'].iloc[i]).group(2)\n",
    "\n",
    "    #df[(df[\"RA\"]==ra) & (dec in df[\"DEC\"])]['SwiftName'].iloc[0]\n",
    "    nustar_df['SwiftName'].iloc[i] = df[(df[\"RA\"]==ra)]['SwiftName'].iloc[0]"
   ]
  },
  {
   "cell_type": "code",
   "execution_count": null,
   "metadata": {},
   "outputs": [],
   "source": [
    "#nustar_df=nustar_df.drop(columns=['Unnamed: 0', 'Unnamed: 13'])\n",
    "nustar_df=nustar_df.reindex(columns=['SwiftName',*nustar_df.columns[:-1]])\n",
    "nustar_df.to_csv('nustarbass.csv', index=False)"
   ]
  },
  {
   "cell_type": "code",
   "execution_count": null,
   "metadata": {},
   "outputs": [],
   "source": [
    "suzaku_df = pd.read_table('suzakubass.txt', header=0,delimiter=\"|\")\n",
    "suzaku_df.columns = suzaku_df.columns.str.strip()\n",
    "suzaku_df['SwiftName'] = \"\"\n",
    "for i in range(len(suzaku_df)):\n",
    "    ra=re.search(r'\\((\\d+\\.\\d+),(-?\\d+\\.\\d+).+\\)',suzaku_df['_Search_Offset'].iloc[i]).group(1)\n",
    "    dec=re.search(r'\\((\\d+\\.\\d+),(-?\\d+\\.\\d+).+\\)',suzaku_df['_Search_Offset'].iloc[i]).group(2)\n",
    "\n",
    "    #df[(df[\"RA\"]==ra) & (dec in df[\"DEC\"])]['SwiftName'].iloc[0]\n",
    "    suzaku_df['SwiftName'].iloc[i] = df[(df[\"RA\"]==ra)]['SwiftName'].iloc[0]\n",
    "suzaku_df"
   ]
  },
  {
   "cell_type": "code",
   "execution_count": null,
   "metadata": {},
   "outputs": [],
   "source": [
    "suzaku_df=suzaku_df.drop(columns=['Unnamed: 0', 'Unnamed: 10'])\n",
    "suzaku_df=suzaku_df.reindex(columns=['SwiftName',*suzaku_df.columns[:-1]])\n",
    "suzaku_df.to_csv('suzakubass.csv', index=False)"
   ]
  },
  {
   "cell_type": "code",
   "execution_count": null,
   "metadata": {},
   "outputs": [],
   "source": [
    "xmm_df = pd.read_table('xmmbass.txt', header=0,delimiter=\"|\",dtype=str)\n",
    "xmm_df.columns = xmm_df.columns.str.strip()\n",
    "xmm_df['SwiftName'] = \"\"\n",
    "for i in range(len(xmm_df)):\n",
    "    ra=re.search(r'\\((\\d+\\.\\d+),(-?\\d+\\.\\d+).+\\)',xmm_df['_Search_Offset'].iloc[i]).group(1)\n",
    "    dec=re.search(r'\\((\\d+\\.\\d+),(-?\\d+\\.\\d+).+\\)',xmm_df['_Search_Offset'].iloc[i]).group(2)\n",
    "\n",
    "    #df[(df[\"RA\"]==ra) & (dec in df[\"DEC\"])]['SwiftName'].iloc[0]\n",
    "    xmm_df['SwiftName'].iloc[i] = df[(df[\"RA\"]==ra)]['SwiftName'].iloc[0]\n",
    "xmm_df"
   ]
  },
  {
   "cell_type": "code",
   "execution_count": null,
   "metadata": {},
   "outputs": [],
   "source": [
    "xmm_df=xmm_df.drop(columns=['Unnamed: 0', 'Unnamed: 12'])\n",
    "xmm_df=xmm_df.reindex(columns=['SwiftName',*xmm_df.columns[:-1]])\n",
    "xmm_df.to_csv('xmmbass.csv', index=False)"
   ]
  },
  {
   "cell_type": "code",
   "execution_count": null,
   "metadata": {},
   "outputs": [],
   "source": [
    "chandra_df = pd.read_table('chandrabass.txt', header=0,delimiter=\"|\")\n",
    "chandra_df.columns = chandra_df.columns.str.strip()\n",
    "chandra_df['SwiftName'] = \"\"\n",
    "for i in range(len(xmm_df)):\n",
    "    ra=re.search(r'\\((\\d+\\.\\d+),(-?\\d+\\.\\d+).+\\)',chandra_df['_Search_Offset'].iloc[i]).group(1)\n",
    "    dec=re.search(r'\\((\\d+\\.\\d+),(-?\\d+\\.\\d+).+\\)',chandra_df['_Search_Offset'].iloc[i]).group(2)\n",
    "\n",
    "    #df[(df[\"RA\"]==ra) & (dec in df[\"DEC\"])]['SwiftName'].iloc[0]\n",
    "    chandra_df['SwiftName'].iloc[i] = df[(df[\"RA\"]==ra)]['SwiftName'].iloc[0]\n",
    "chandra_df"
   ]
  },
  {
   "cell_type": "code",
   "execution_count": null,
   "metadata": {},
   "outputs": [],
   "source": [
    "chandra_df=chandra_df.drop(columns=['Unnamed: 0', 'Unnamed: 12'])\n",
    "chandra_df=chandra_df.reindex(columns=['SwiftName',*chandra_df.columns[:-1]])\n",
    "chandra_df.to_csv('chandrabass.csv', index=False)"
   ]
  },
  {
   "cell_type": "code",
   "execution_count": null,
   "metadata": {},
   "outputs": [],
   "source": [
    "\n",
    "nustar_df = pd.read_table('nustarbass.csv', header=0,delimiter=\",\",parse_dates=['time'])\n",
    "nustar_df"
   ]
  },
  {
   "cell_type": "code",
   "execution_count": null,
   "metadata": {},
   "outputs": [],
   "source": [
    "nustar_df.dtypes"
   ]
  },
  {
   "cell_type": "markdown",
   "metadata": {},
   "source": [
    "## For Spitzer https://irsa.ipac.caltech.edu/cgi-bin/Gator/nph-dd?catalog=irs_enhv211"
   ]
  },
  {
   "cell_type": "code",
   "execution_count": 254,
   "metadata": {},
   "outputs": [],
   "source": [
    "with open('bassradec.csv','r') as f:\n",
    "    bassradec = f.readlines()\n",
    "bassradec = [i.strip('\\n').split(',') for i in bassradec]"
   ]
  },
  {
   "cell_type": "code",
   "execution_count": 256,
   "metadata": {},
   "outputs": [],
   "source": [
    "bassradec = [' {0:15} {1:15}'.format(*i) for i in bassradec]"
   ]
  },
  {
   "cell_type": "code",
   "execution_count": 258,
   "metadata": {},
   "outputs": [],
   "source": [
    "header = [\"\\ EQUINOX = 'J2000.0'\",\n",
    "'|{0:>15}|{1:15}|'.format('ra','dec'),\n",
    "'|{0:>15}|{1:15}|'.format('double','double')]"
   ]
  },
  {
   "cell_type": "code",
   "execution_count": 260,
   "metadata": {},
   "outputs": [],
   "source": [
    "with open('bassradec_spitzer.csv','w') as f:\n",
    "    f.write('\\n'.join(header+bassradec))"
   ]
  },
  {
   "cell_type": "code",
   "execution_count": null,
   "metadata": {},
   "outputs": [],
   "source": []
  }
 ],
 "metadata": {
  "kernelspec": {
   "display_name": "py310",
   "language": "python",
   "name": "python3"
  },
  "language_info": {
   "codemirror_mode": {
    "name": "ipython",
    "version": 3
   },
   "file_extension": ".py",
   "mimetype": "text/x-python",
   "name": "python",
   "nbconvert_exporter": "python",
   "pygments_lexer": "ipython3",
   "version": "3.10.0"
  }
 },
 "nbformat": 4,
 "nbformat_minor": 2
}
